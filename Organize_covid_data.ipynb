{
  "nbformat": 4,
  "nbformat_minor": 0,
  "metadata": {
    "colab": {
      "name": " Organize covid data consegna",
      "provenance": [],
      "collapsed_sections": []
    },
    "kernelspec": {
      "display_name": "Python 3",
      "language": "python",
      "name": "python3"
    },
    "language_info": {
      "codemirror_mode": {
        "name": "ipython",
        "version": 3
      },
      "file_extension": ".py",
      "mimetype": "text/x-python",
      "name": "python",
      "nbconvert_exporter": "python",
      "pygments_lexer": "ipython3",
      "version": "3.7.9"
    }
  },
  "cells": [
    {
      "cell_type": "markdown",
      "metadata": {
        "id": "eEftCCj6tXjt"
      },
      "source": [
        "Etraxt audio features with YAMNet (https://github.com/tensorflow/models/tree/master/research/audioset/yamnet) and train a classifier."
      ]
    },
    {
      "cell_type": "markdown",
      "metadata": {
        "id": "izO39QEIU0yp"
      },
      "source": [
        "Organize data for traning.\n",
        "\n",
        "- filter the data (prob>0.8 of cough in the audio)\n",
        "- split into train-validation-test\n",
        "- segment cough (one audio may have more than one cough)\n",
        "- save wav file to dir (easier to read in tf)\n",
        "- create 3 dataframes (train-val-test)\n",
        "\n",
        "Audio is at sr = 48kHz (da provare: dimezzare).\n",
        "\n",
        "\n",
        "\n"
      ]
    },
    {
      "cell_type": "code",
      "metadata": {
        "colab": {
          "base_uri": "https://localhost:8080/"
        },
        "id": "O2iLeHm2YlG_",
        "outputId": "620edb78-c8fc-4745-ce9a-7ed72c022baf"
      },
      "source": [
        "from google.colab import drive\n",
        "drive.mount('/content/drive/')"
      ],
      "execution_count": null,
      "outputs": [
        {
          "output_type": "stream",
          "text": [
            "Mounted at /content/drive/\n"
          ],
          "name": "stdout"
        }
      ]
    },
    {
      "cell_type": "code",
      "metadata": {
        "id": "QJ4JSanGNGFm"
      },
      "source": [
        "import numpy as np\n",
        "import itertools\n",
        "import os\n",
        "import shutil\n",
        "import random\n",
        "import glob\n",
        "import matplotlib.pyplot as plt\n",
        "import warnings\n",
        "import scipy.io\n",
        "from IPython.display import Image\n",
        "import pathlib\n",
        "import PIL\n",
        "import PIL.Image\n",
        "import re\n",
        "from IPython import display\n",
        "import pandas as pd\n",
        "from scipy.io.wavfile import write\n",
        "import librosa\n",
        "import warnings\n",
        "warnings.filterwarnings('ignore')"
      ],
      "execution_count": null,
      "outputs": []
    },
    {
      "cell_type": "code",
      "metadata": {
        "id": "KiwNh8r_NPjW"
      },
      "source": [
        "'''\n",
        "# Download coughvid data in CDF format\n",
        "# Run once \n",
        "!git clone \"https://github.com/virufy/virufy-cdf-coughvid.git\"\n",
        "'''"
      ],
      "execution_count": null,
      "outputs": []
    },
    {
      "cell_type": "code",
      "metadata": {
        "colab": {
          "base_uri": "https://localhost:8080/",
          "height": 554
        },
        "id": "zVbff00Jw77_",
        "outputId": "d430293f-e511-4fd7-ec6d-f67cd150dfd3"
      },
      "source": [
        "# Load csv with metadata and filter the non-cough sounds\n",
        "\n",
        "%cd /content/drive/MyDrive/Colab Notebooks/cough_covid_detection/virufy-cdf-coughvid\n",
        "\n",
        "coughvid = pd.read_csv(\"virufy-cdf-coughvid.csv\")\n",
        "print(len(coughvid))\n",
        "msk = (coughvid.loc[:,'cough_detected'] > 0.9)\n",
        "coughvid = coughvid.loc[msk,:]\n",
        "print(len(coughvid))\n",
        "\n",
        "coughvid.head()"
      ],
      "execution_count": null,
      "outputs": [
        {
          "output_type": "stream",
          "text": [
            "/content/drive/MyDrive/Colab Notebooks/cough_covid_detection/virufy-cdf-coughvid\n",
            "22040\n",
            "10427\n"
          ],
          "name": "stdout"
        },
        {
          "output_type": "execute_result",
          "data": {
            "text/html": [
              "<div>\n",
              "<style scoped>\n",
              "    .dataframe tbody tr th:only-of-type {\n",
              "        vertical-align: middle;\n",
              "    }\n",
              "\n",
              "    .dataframe tbody tr th {\n",
              "        vertical-align: top;\n",
              "    }\n",
              "\n",
              "    .dataframe thead th {\n",
              "        text-align: right;\n",
              "    }\n",
              "</style>\n",
              "<table border=\"1\" class=\"dataframe\">\n",
              "  <thead>\n",
              "    <tr style=\"text-align: right;\">\n",
              "      <th></th>\n",
              "      <th>Unnamed: 0</th>\n",
              "      <th>source</th>\n",
              "      <th>patient_id</th>\n",
              "      <th>cough_detected</th>\n",
              "      <th>cough_path</th>\n",
              "      <th>age</th>\n",
              "      <th>biological_sex</th>\n",
              "      <th>reported_gender</th>\n",
              "      <th>submission_date</th>\n",
              "      <th>pcr_test_date</th>\n",
              "      <th>pcr_result_date</th>\n",
              "      <th>respiratory_condition</th>\n",
              "      <th>fever_or_muscle_pain</th>\n",
              "      <th>pcr_test_result</th>\n",
              "      <th>pcr_test_result_inferred</th>\n",
              "      <th>covid_symptoms</th>\n",
              "    </tr>\n",
              "  </thead>\n",
              "  <tbody>\n",
              "    <tr>\n",
              "      <th>4</th>\n",
              "      <td>4</td>\n",
              "      <td>coughvid</td>\n",
              "      <td>68d5215b-afdb-4b7a-81d3-fbd5677de7b4</td>\n",
              "      <td>1.0000</td>\n",
              "      <td>virufy-cdf-coughvid/68d5215b-afdb-4b7a-81d3-fb...</td>\n",
              "      <td>46.0</td>\n",
              "      <td>male</td>\n",
              "      <td>male</td>\n",
              "      <td>2020-11-26T16:21:47.764016+00:00</td>\n",
              "      <td>NaN</td>\n",
              "      <td>NaN</td>\n",
              "      <td>False</td>\n",
              "      <td>False</td>\n",
              "      <td>untested</td>\n",
              "      <td>negative</td>\n",
              "      <td>False</td>\n",
              "    </tr>\n",
              "    <tr>\n",
              "      <th>5</th>\n",
              "      <td>5</td>\n",
              "      <td>coughvid</td>\n",
              "      <td>3449851d-799e-404e-b143-58e852332948</td>\n",
              "      <td>0.9825</td>\n",
              "      <td>virufy-cdf-coughvid/3449851d-799e-404e-b143-58...</td>\n",
              "      <td>47.0</td>\n",
              "      <td>male</td>\n",
              "      <td>male</td>\n",
              "      <td>2020-04-14T19:39:05.755132+00:00</td>\n",
              "      <td>NaN</td>\n",
              "      <td>NaN</td>\n",
              "      <td>False</td>\n",
              "      <td>False</td>\n",
              "      <td>untested</td>\n",
              "      <td>negative</td>\n",
              "      <td>False</td>\n",
              "    </tr>\n",
              "    <tr>\n",
              "      <th>6</th>\n",
              "      <td>6</td>\n",
              "      <td>coughvid</td>\n",
              "      <td>0c35e382-31cd-42cb-bc87-8a84b9c52a41</td>\n",
              "      <td>1.0000</td>\n",
              "      <td>virufy-cdf-coughvid/0c35e382-31cd-42cb-bc87-8a...</td>\n",
              "      <td>27.0</td>\n",
              "      <td>female</td>\n",
              "      <td>female</td>\n",
              "      <td>2020-04-13T09:11:44.729740+00:00</td>\n",
              "      <td>NaN</td>\n",
              "      <td>NaN</td>\n",
              "      <td>False</td>\n",
              "      <td>False</td>\n",
              "      <td>positive</td>\n",
              "      <td>positive</td>\n",
              "      <td>NaN</td>\n",
              "    </tr>\n",
              "    <tr>\n",
              "      <th>9</th>\n",
              "      <td>9</td>\n",
              "      <td>coughvid</td>\n",
              "      <td>3ee8bfb5-a1d4-46c6-9b1c-3052af9bdedf</td>\n",
              "      <td>0.9943</td>\n",
              "      <td>virufy-cdf-coughvid/3ee8bfb5-a1d4-46c6-9b1c-30...</td>\n",
              "      <td>NaN</td>\n",
              "      <td>NaN</td>\n",
              "      <td>NaN</td>\n",
              "      <td>2020-04-12T20:09:17.098213+00:00</td>\n",
              "      <td>NaN</td>\n",
              "      <td>NaN</td>\n",
              "      <td>NaN</td>\n",
              "      <td>NaN</td>\n",
              "      <td>untested</td>\n",
              "      <td>untested</td>\n",
              "      <td>NaN</td>\n",
              "    </tr>\n",
              "    <tr>\n",
              "      <th>12</th>\n",
              "      <td>12</td>\n",
              "      <td>coughvid</td>\n",
              "      <td>cdd18865-400a-448e-902b-c8b53644a1c8</td>\n",
              "      <td>0.9881</td>\n",
              "      <td>virufy-cdf-coughvid/cdd18865-400a-448e-902b-c8...</td>\n",
              "      <td>24.0</td>\n",
              "      <td>male</td>\n",
              "      <td>male</td>\n",
              "      <td>2020-11-28T20:14:22.235183+00:00</td>\n",
              "      <td>NaN</td>\n",
              "      <td>NaN</td>\n",
              "      <td>False</td>\n",
              "      <td>False</td>\n",
              "      <td>untested</td>\n",
              "      <td>negative</td>\n",
              "      <td>False</td>\n",
              "    </tr>\n",
              "  </tbody>\n",
              "</table>\n",
              "</div>"
            ],
            "text/plain": [
              "    Unnamed: 0    source  ... pcr_test_result_inferred  covid_symptoms\n",
              "4            4  coughvid  ...                 negative           False\n",
              "5            5  coughvid  ...                 negative           False\n",
              "6            6  coughvid  ...                 positive             NaN\n",
              "9            9  coughvid  ...                 untested             NaN\n",
              "12          12  coughvid  ...                 negative           False\n",
              "\n",
              "[5 rows x 16 columns]"
            ]
          },
          "metadata": {
            "tags": []
          },
          "execution_count": 3
        }
      ]
    },
    {
      "cell_type": "code",
      "metadata": {
        "id": "iE0081M4xMwg"
      },
      "source": [
        "# Disclaimer: some of these pcr_test_result labels have been inferred based on other columns\n",
        "# (https://github.com/virufy/virufy-cdf-coughvid)\n",
        "# Target = pcr_test_result_inferred\n",
        "# Positive, negative, untested\n",
        "\n",
        "# coughvid['pcr_test_result_inferred'].head(30)"
      ],
      "execution_count": null,
      "outputs": []
    },
    {
      "cell_type": "code",
      "metadata": {
        "id": "GPiMYTNQzU3e",
        "colab": {
          "base_uri": "https://localhost:8080/",
          "height": 519
        },
        "outputId": "ca301c7c-79af-498b-bee8-eecbe94f4297"
      },
      "source": [
        "# Filter out untested results\n",
        "\n",
        "msk = (coughvid.loc[:,'pcr_test_result_inferred'] =='untested')\n",
        "coughvid = coughvid.loc[~msk,:]\n",
        "print(len(coughvid))\n",
        "\n",
        "assert len(coughvid) == 6238\n",
        "coughvid.head(5)"
      ],
      "execution_count": null,
      "outputs": [
        {
          "output_type": "stream",
          "text": [
            "6238\n"
          ],
          "name": "stdout"
        },
        {
          "output_type": "execute_result",
          "data": {
            "text/html": [
              "<div>\n",
              "<style scoped>\n",
              "    .dataframe tbody tr th:only-of-type {\n",
              "        vertical-align: middle;\n",
              "    }\n",
              "\n",
              "    .dataframe tbody tr th {\n",
              "        vertical-align: top;\n",
              "    }\n",
              "\n",
              "    .dataframe thead th {\n",
              "        text-align: right;\n",
              "    }\n",
              "</style>\n",
              "<table border=\"1\" class=\"dataframe\">\n",
              "  <thead>\n",
              "    <tr style=\"text-align: right;\">\n",
              "      <th></th>\n",
              "      <th>Unnamed: 0</th>\n",
              "      <th>source</th>\n",
              "      <th>patient_id</th>\n",
              "      <th>cough_detected</th>\n",
              "      <th>cough_path</th>\n",
              "      <th>age</th>\n",
              "      <th>biological_sex</th>\n",
              "      <th>reported_gender</th>\n",
              "      <th>submission_date</th>\n",
              "      <th>pcr_test_date</th>\n",
              "      <th>pcr_result_date</th>\n",
              "      <th>respiratory_condition</th>\n",
              "      <th>fever_or_muscle_pain</th>\n",
              "      <th>pcr_test_result</th>\n",
              "      <th>pcr_test_result_inferred</th>\n",
              "      <th>covid_symptoms</th>\n",
              "    </tr>\n",
              "  </thead>\n",
              "  <tbody>\n",
              "    <tr>\n",
              "      <th>4</th>\n",
              "      <td>4</td>\n",
              "      <td>coughvid</td>\n",
              "      <td>68d5215b-afdb-4b7a-81d3-fbd5677de7b4</td>\n",
              "      <td>1.0000</td>\n",
              "      <td>virufy-cdf-coughvid/68d5215b-afdb-4b7a-81d3-fb...</td>\n",
              "      <td>46.0</td>\n",
              "      <td>male</td>\n",
              "      <td>male</td>\n",
              "      <td>2020-11-26T16:21:47.764016+00:00</td>\n",
              "      <td>NaN</td>\n",
              "      <td>NaN</td>\n",
              "      <td>False</td>\n",
              "      <td>False</td>\n",
              "      <td>untested</td>\n",
              "      <td>negative</td>\n",
              "      <td>False</td>\n",
              "    </tr>\n",
              "    <tr>\n",
              "      <th>5</th>\n",
              "      <td>5</td>\n",
              "      <td>coughvid</td>\n",
              "      <td>3449851d-799e-404e-b143-58e852332948</td>\n",
              "      <td>0.9825</td>\n",
              "      <td>virufy-cdf-coughvid/3449851d-799e-404e-b143-58...</td>\n",
              "      <td>47.0</td>\n",
              "      <td>male</td>\n",
              "      <td>male</td>\n",
              "      <td>2020-04-14T19:39:05.755132+00:00</td>\n",
              "      <td>NaN</td>\n",
              "      <td>NaN</td>\n",
              "      <td>False</td>\n",
              "      <td>False</td>\n",
              "      <td>untested</td>\n",
              "      <td>negative</td>\n",
              "      <td>False</td>\n",
              "    </tr>\n",
              "    <tr>\n",
              "      <th>6</th>\n",
              "      <td>6</td>\n",
              "      <td>coughvid</td>\n",
              "      <td>0c35e382-31cd-42cb-bc87-8a84b9c52a41</td>\n",
              "      <td>1.0000</td>\n",
              "      <td>virufy-cdf-coughvid/0c35e382-31cd-42cb-bc87-8a...</td>\n",
              "      <td>27.0</td>\n",
              "      <td>female</td>\n",
              "      <td>female</td>\n",
              "      <td>2020-04-13T09:11:44.729740+00:00</td>\n",
              "      <td>NaN</td>\n",
              "      <td>NaN</td>\n",
              "      <td>False</td>\n",
              "      <td>False</td>\n",
              "      <td>positive</td>\n",
              "      <td>positive</td>\n",
              "      <td>NaN</td>\n",
              "    </tr>\n",
              "    <tr>\n",
              "      <th>12</th>\n",
              "      <td>12</td>\n",
              "      <td>coughvid</td>\n",
              "      <td>cdd18865-400a-448e-902b-c8b53644a1c8</td>\n",
              "      <td>0.9881</td>\n",
              "      <td>virufy-cdf-coughvid/cdd18865-400a-448e-902b-c8...</td>\n",
              "      <td>24.0</td>\n",
              "      <td>male</td>\n",
              "      <td>male</td>\n",
              "      <td>2020-11-28T20:14:22.235183+00:00</td>\n",
              "      <td>NaN</td>\n",
              "      <td>NaN</td>\n",
              "      <td>False</td>\n",
              "      <td>False</td>\n",
              "      <td>untested</td>\n",
              "      <td>negative</td>\n",
              "      <td>False</td>\n",
              "    </tr>\n",
              "    <tr>\n",
              "      <th>14</th>\n",
              "      <td>14</td>\n",
              "      <td>coughvid</td>\n",
              "      <td>0e35f667-974e-4ffc-b596-1b9a94793d1b</td>\n",
              "      <td>0.9658</td>\n",
              "      <td>virufy-cdf-coughvid/0e35f667-974e-4ffc-b596-1b...</td>\n",
              "      <td>18.0</td>\n",
              "      <td>male</td>\n",
              "      <td>male</td>\n",
              "      <td>2020-04-14T10:52:04.775637+00:00</td>\n",
              "      <td>NaN</td>\n",
              "      <td>NaN</td>\n",
              "      <td>False</td>\n",
              "      <td>False</td>\n",
              "      <td>untested</td>\n",
              "      <td>negative</td>\n",
              "      <td>False</td>\n",
              "    </tr>\n",
              "  </tbody>\n",
              "</table>\n",
              "</div>"
            ],
            "text/plain": [
              "    Unnamed: 0    source  ... pcr_test_result_inferred  covid_symptoms\n",
              "4            4  coughvid  ...                 negative           False\n",
              "5            5  coughvid  ...                 negative           False\n",
              "6            6  coughvid  ...                 positive             NaN\n",
              "12          12  coughvid  ...                 negative           False\n",
              "14          14  coughvid  ...                 negative           False\n",
              "\n",
              "[5 rows x 16 columns]"
            ]
          },
          "metadata": {
            "tags": []
          },
          "execution_count": 4
        }
      ]
    },
    {
      "cell_type": "code",
      "metadata": {
        "colab": {
          "base_uri": "https://localhost:8080/"
        },
        "id": "zukXoQQjznSW",
        "outputId": "786e95fa-12a8-4cd4-f564-cd7ac4828e61"
      },
      "source": [
        "# Check wheter the dataset is imbalanced\n",
        "coughvid['pcr_test_result_inferred'].value_counts()"
      ],
      "execution_count": null,
      "outputs": [
        {
          "output_type": "execute_result",
          "data": {
            "text/plain": [
              "negative    5675\n",
              "positive     563\n",
              "Name: pcr_test_result_inferred, dtype: int64"
            ]
          },
          "metadata": {
            "tags": []
          },
          "execution_count": 19
        }
      ]
    },
    {
      "cell_type": "code",
      "metadata": {
        "id": "6MDuxsa8Tdtt"
      },
      "source": [
        "# Create a new column (target) containing the labels as numbers \n",
        "# (usefull in training)\n",
        "my_classes = ['positive', 'negative']\n",
        "map_class_to_id = {'negative':0, 'positive':1}\n",
        "\n",
        "class_id = coughvid['pcr_test_result_inferred'].apply(lambda name: map_class_to_id[name])\n",
        "coughvid = coughvid.assign(target=class_id)"
      ],
      "execution_count": null,
      "outputs": []
    },
    {
      "cell_type": "code",
      "metadata": {
        "colab": {
          "base_uri": "https://localhost:8080/"
        },
        "id": "1rerAvhPIiSz",
        "outputId": "e37c0f81-c0fe-412b-f418-7660f3961d49"
      },
      "source": [
        "from sklearn.model_selection import train_test_split\n",
        "\n",
        "# Train-val-test split\n",
        "stratify_labels = coughvid[\"pcr_test_result_inferred\"].map(\n",
        "    lambda x: x if x is \"positive\" else \"untested\")\n",
        "\n",
        "cdf_train_val, cdf_test = train_test_split(\n",
        "    coughvid, test_size=0.2, random_state = 0, stratify = stratify_labels)\n",
        "\n",
        "stratify_labels2 = cdf_train_val[\"pcr_test_result_inferred\"].map(\n",
        "    lambda x: x if x is \"positive\" else \"untested\")\n",
        "\n",
        "cdf_train, cdf_val = train_test_split(\n",
        "    cdf_train_val, test_size=0.2, random_state = 0, stratify = stratify_labels2)\n",
        "\n",
        "\n",
        "cdf_train.shape, cdf_val.shape, cdf_test.shape"
      ],
      "execution_count": null,
      "outputs": [
        {
          "output_type": "execute_result",
          "data": {
            "text/plain": [
              "((3992, 17), (998, 17), (1248, 17))"
            ]
          },
          "metadata": {
            "tags": []
          },
          "execution_count": 7
        }
      ]
    },
    {
      "cell_type": "code",
      "metadata": {
        "colab": {
          "base_uri": "https://localhost:8080/"
        },
        "id": "bM_p48VQAbNw",
        "outputId": "746fc3d2-0c98-41ed-d4d4-519269394c07"
      },
      "source": [
        "def partition_info(df):\n",
        "\n",
        "  listname = df['pcr_test_result_inferred']\n",
        "  negative_num = np.zeros(1)\n",
        "  pos_num = np.zeros(1)\n",
        "\n",
        "  for name in listname:\n",
        "    if name == 'negative':\n",
        "      negative_num = negative_num + 1\n",
        "    elif name == 'positive':\n",
        "      pos_num = pos_num + 1\n",
        "\n",
        "\n",
        "  print('Negative cases = ',negative_num)\n",
        "  print('Positive cases =',pos_num)\n",
        "  print('P/N = ', pos_num/negative_num, '\\n\\n')\n",
        "\n",
        "print('Train')\n",
        "partition_info(cdf_train)\n",
        "print('Val')\n",
        "partition_info(cdf_val)\n",
        "print('Test')\n",
        "partition_info(cdf_test)"
      ],
      "execution_count": null,
      "outputs": [
        {
          "output_type": "stream",
          "text": [
            "Train\n",
            "Negative cases =  [3633.]\n",
            "Positive cases = [359.]\n",
            "P/N =  [0.09881641] \n",
            "\n",
            "\n",
            "Val\n",
            "Negative cases =  [903.]\n",
            "Positive cases = [95.]\n",
            "P/N =  [0.10520487] \n",
            "\n",
            "\n",
            "Test\n",
            "Negative cases =  [1139.]\n",
            "Positive cases = [109.]\n",
            "P/N =  [0.09569798] \n",
            "\n",
            "\n"
          ],
          "name": "stdout"
        }
      ]
    },
    {
      "cell_type": "code",
      "metadata": {
        "id": "R_HHxkASF0n-"
      },
      "source": [
        "# Segmentation script (https://c4science.ch/diffusion/10770/)\n",
        "# Data durantion in s \n",
        "def segment_cough(x,fs, cough_padding=0.2, min_cough_len=0.2, th_l_multiplier = 0.1, th_h_multiplier = 2):\n",
        "    \"\"\"Preprocess the data by segmenting each file into individual coughs using a hysteresis comparator on the signal power\n",
        "    \n",
        "    Inputs:\n",
        "    *x (np.array): cough signal\n",
        "    *fs (float): sampling frequency in Hz\n",
        "    *cough_padding (float): number of seconds added to the beginning and end of each detected cough to make sure coughs are not cut short\n",
        "    *min_cough_length (float): length of the minimum possible segment that can be considered a cough\n",
        "    *th_l_multiplier (float): multiplier of the RMS energy used as a lower threshold of the hysteresis comparator\n",
        "    *th_h_multiplier (float): multiplier of the RMS energy used as a high threshold of the hysteresis comparator\n",
        "    \n",
        "    Outputs:\n",
        "    *coughSegments (np.array of np.arrays): a list of cough signal arrays corresponding to each cough\n",
        "    cough_mask (np.array): an array of booleans that are True at the indices where a cough is in progress\"\"\"\n",
        "                \n",
        "    cough_mask = np.array([False]*len(x))\n",
        "    \n",
        "\n",
        "    #Define hysteresis thresholds\n",
        "    rms = np.sqrt(np.mean(np.square(x)))\n",
        "    seg_th_l = th_l_multiplier * rms\n",
        "    seg_th_h =  th_h_multiplier*rms\n",
        "\n",
        "    #Segment coughs\n",
        "    coughSegments = []\n",
        "    padding = round(fs*cough_padding)\n",
        "    min_cough_samples = round(fs*min_cough_len)\n",
        "    cough_start = 0\n",
        "    cough_end = 0\n",
        "    cough_in_progress = False\n",
        "    tolerance = round(0.01*fs)\n",
        "    below_th_counter = 0\n",
        "    \n",
        "    for i, sample in enumerate(x**2):\n",
        "        if cough_in_progress:\n",
        "            if sample<seg_th_l:\n",
        "                below_th_counter += 1\n",
        "                if below_th_counter > tolerance:\n",
        "                    cough_end = i+padding if (i+padding < len(x)) else len(x)-1\n",
        "                    cough_in_progress = False\n",
        "                    if (cough_end+1-cough_start-2*padding>min_cough_samples):\n",
        "                        coughSegments.append(x[cough_start:cough_end+1])\n",
        "                        cough_mask[cough_start:cough_end+1] = True\n",
        "            elif i == (len(x)-1):\n",
        "                cough_end=i\n",
        "                cough_in_progress = False\n",
        "                if (cough_end+1-cough_start-2*padding>min_cough_samples):\n",
        "                    coughSegments.append(x[cough_start:cough_end+1])\n",
        "            else:\n",
        "                below_th_counter = 0\n",
        "        else:\n",
        "            if sample>seg_th_h:\n",
        "                cough_start = i-padding if (i-padding >=0) else 0\n",
        "                cough_in_progress = True\n",
        "    \n",
        "    return coughSegments, cough_mask\n",
        "\n",
        "def compute_SNR(x, fs):\n",
        "    \"\"\"Compute the Signal-to-Noise ratio of the audio signal x (np.array) with sampling frequency fs (float)\"\"\"\n",
        "    segments, cough_mask = segment_cough(x,fs)\n",
        "    RMS_signal = 0 if len(x[cough_mask])==0 else np.sqrt(np.mean(np.square(x[cough_mask])))\n",
        "    RMS_noise = np.sqrt(np.mean(np.square(x[~cough_mask])))\n",
        "    SNR = 0 if (RMS_signal==0 or np.isnan(RMS_noise)) else 20*np.log10(RMS_signal/RMS_noise)\n",
        "    return SNR"
      ],
      "execution_count": null,
      "outputs": []
    },
    {
      "cell_type": "code",
      "metadata": {
        "id": "cj-7VhbcUj60"
      },
      "source": [
        "# ELIMINATE COUGH SEGMENTS > 0.96s\n",
        "\n",
        "def prepare_data(df, save_dir):\n",
        "  # Read and segment audio in single coughs\n",
        "  # Save to save_dir and create new_dataframe that consider each single cough\n",
        "  my_rows = []\n",
        "  len_audio = []\n",
        "\n",
        "  for row in df.itertuples(index=False, name=None):\n",
        "    \n",
        "    path_to_audio = row[4]\n",
        "    path, name_file = os.path.split(path_to_audio)\n",
        "    audio_name, ext = os.path.splitext(name_file) \n",
        "\n",
        "    # Load and segment\n",
        "    x, fs = librosa.load(path_to_audio, sr=None)\n",
        "    cough_segments, cough_mask = segment_cough(x, fs)\n",
        "\n",
        "    '''\n",
        "    print(cough_segments)\n",
        "    print(np.max(cough_segments[0]))\n",
        "    print(np.min(cough_segments[0]))\n",
        "    '''\n",
        "    # cough_segments = np.array(cough_segments, dtype=np.int16)\n",
        "    # print(cough_segments.dtype)\n",
        "    number_cough = len(cough_segments)\n",
        "\n",
        "\n",
        "    if number_cough != 0:\n",
        "      for i in range(number_cough):\n",
        "        # Replace path to audio, convert to wav and save to new dir\n",
        "        segment_duration = len(cough_segments[i]) / fs\n",
        "        if segment_duration <= 0.96:\n",
        "          savepath = os.path.join(save_dir, audio_name + '_' + str(i) + '.wav')\n",
        "          write(filename=savepath, rate=fs, data=np.array(cough_segments[i]* 32767, dtype=np.int16))\n",
        "          '''\n",
        "          print(np.max(np.array(cough_segments[i]* 32767, dtype=np.int16)))\n",
        "          pr'int(np.min(np.array(cough_segments[i]* 32767, dtype=np.int16)))\n",
        "          '''\n",
        "          mod_row = list(row)\n",
        "          mod_row[4] = savepath\n",
        "              \n",
        "          my_rows.append(mod_row)\n",
        "          len_audio.append(segment_duration)\n",
        "\n",
        "        \n",
        "  new_dataframe = pd.DataFrame(my_rows, columns = list(df.columns))\n",
        "\n",
        "  return new_dataframe, len_audio"
      ],
      "execution_count": null,
      "outputs": []
    },
    {
      "cell_type": "code",
      "metadata": {
        "id": "nyUryNEvGP_2"
      },
      "source": [
        "base_dir = 'segmented_wav_audio_4_max096'\n",
        "\n",
        "save_dir_train = os.path.join(base_dir, 'Train_seg_09')\n",
        "save_dir_val = os.path.join(base_dir,'Val_seg_09')\n",
        "save_dir_test = os.path.join(base_dir,'Test_seg_09')\n",
        "\n",
        "\n",
        "os.mkdir(base_dir)\n",
        "os.mkdir(save_dir_train)\n",
        "os.mkdir(save_dir_val)\n",
        "os.mkdir(save_dir_test)"
      ],
      "execution_count": null,
      "outputs": []
    },
    {
      "cell_type": "code",
      "metadata": {
        "id": "B_B-KHNFGjtD"
      },
      "source": [
        "new_train_df, len_train= prepare_data(cdf_train, save_dir_train)\n",
        "new_train_df.to_csv(os.path.join(base_dir,'Train_seg_09_data.csv'))"
      ],
      "execution_count": null,
      "outputs": []
    },
    {
      "cell_type": "code",
      "metadata": {
        "id": "YbX-8WdjGrp1"
      },
      "source": [
        "new_val_df, len_val = prepare_data(cdf_val, save_dir_val)\n",
        "new_val_df.to_csv(os.path.join(base_dir,'Val_seg_09_data.csv'))"
      ],
      "execution_count": null,
      "outputs": []
    },
    {
      "cell_type": "code",
      "metadata": {
        "id": "W9K0bSQJGr5X"
      },
      "source": [
        "new_test_df, len_test = prepare_data(cdf_test, save_dir_test)\n",
        "new_test_df.to_csv(os.path.join(base_dir,'Test_seg_09_data.csv'))"
      ],
      "execution_count": null,
      "outputs": []
    },
    {
      "cell_type": "code",
      "metadata": {
        "id": "i2wUKAMLHau5"
      },
      "source": [
        "'''\n",
        "import pickle \n",
        "\n",
        "with open(os.path.join(base_dir,\"len_audio_train_09_seg.txt\"), \"wb\") as fp:\n",
        "  pickle.dump(len_train, fp)\n",
        "\n",
        "with open(os.path.join(base_dir,\"len_audio_val_09_seg.txt\"), \"wb\") as fp:\n",
        "  pickle.dump(len_val, fp)\n",
        "\n",
        "with open(os.path.join(base_dir,\"len_audio_train_09_seg.txt\"), \"wb\") as fp:\n",
        "  pickle.dump(len_test, fp)\n",
        "'''"
      ],
      "execution_count": null,
      "outputs": []
    },
    {
      "cell_type": "code",
      "metadata": {
        "id": "lToFptnJ9XX5"
      },
      "source": [
        "'''\n",
        "import pickle \n",
        "\n",
        "\n",
        "with open(os.path.join(base_dir,\"len_audio_train_09_seg.txt\"), \"rb\") as fp:\n",
        "   len_train = pickle.load(fp)\n",
        "\n",
        "with open(os.path.join(base_dir,\"len_audio_val_09_seg.txt\"), \"rb\") as fp:\n",
        "  len_val = pickle.load(fp)\n",
        "\n",
        "with open(os.path.join(base_dir,\"len_audio_train_09_seg.txt\"), \"rb\") as fp:\n",
        "  len_test = pickle.load(fp)\n",
        "'''"
      ],
      "execution_count": null,
      "outputs": []
    },
    {
      "cell_type": "code",
      "metadata": {
        "colab": {
          "base_uri": "https://localhost:8080/",
          "height": 658
        },
        "id": "MwiNCMFAHUfG",
        "outputId": "d744cda4-17fe-49f4-cb2f-c8fd56255552"
      },
      "source": [
        "def audio_len(len_audio):\n",
        "  \n",
        "  mean_audio = np.mean(len_audio)\n",
        "  std_a = np.std(len_audio)\n",
        "  n, bins, patches = plt.hist(x=len_audio, bins='auto', color='#0504aa',\n",
        "                            alpha=0.7, rwidth=0.85)\n",
        "  \n",
        "  plt.grid(axis='y', alpha=0.75)\n",
        "  plt.xlabel('Seconds')\n",
        "  plt.ylabel('Frequency')\n",
        "  plt.title('Train audio duration')\n",
        "  \n",
        "\n",
        "  print('number of examples = ', len(len_audio))\n",
        "  print('mean =', mean_audio)\n",
        "  print('std =', std_a)\n",
        "  print('mean - std =', mean_audio - std_a)\n",
        "  print('mean + std =', mean_audio + std_a, '\\n')\n",
        "\n",
        "\n",
        "print('Train')\n",
        "audio_len(len_train)  # 4617 --> 11688\n",
        "\n",
        "print('Val')\n",
        "audio_len(len_val)    # 1155 --> 2874\n",
        "\n",
        "print('Test')\n",
        "audio_len(len_test)   # 1444 --> 3627\n"
      ],
      "execution_count": null,
      "outputs": [
        {
          "output_type": "stream",
          "text": [
            "Train\n",
            "number of examples =  9610\n",
            "mean = 0.7105308814602844\n",
            "std = 0.07952199706369657\n",
            "mean - std = 0.6310088843965879\n",
            "mean + std = 0.790052878523981 \n",
            "\n",
            "Val\n",
            "number of examples =  2418\n",
            "mean = 0.712307407981803\n",
            "std = 0.07917461809446043\n",
            "mean - std = 0.6331327898873426\n",
            "mean + std = 0.7914820260762635 \n",
            "\n",
            "Test\n",
            "number of examples =  2945\n",
            "mean = 0.7108983022071309\n",
            "std = 0.08155369591284839\n",
            "mean - std = 0.6293446062942825\n",
            "mean + std = 0.7924519981199794 \n",
            "\n"
          ],
          "name": "stdout"
        },
        {
          "output_type": "display_data",
          "data": {
            "image/png": "[encoded data removed]",
            "text/plain": [
              "<Figure size 432x288 with 1 Axes>"
            ]
          },
          "metadata": {
            "tags": [],
            "needs_background": "light"
          }
        }
      ]
    },
    {
      "cell_type": "code",
      "metadata": {
        "colab": {
          "base_uri": "https://localhost:8080/"
        },
        "id": "o_iX64AIJocp",
        "outputId": "3ceca653-0baa-437a-8ea0-6bbfa8c315c9"
      },
      "source": [
        "# OLD\n",
        "\n",
        "def partition_info(df):\n",
        "  # Get info on number of positive and negative cases\n",
        "  listname = df['pcr_test_result_inferred']\n",
        "  negative_num = np.zeros(1)\n",
        "  pos_num = np.zeros(1)\n",
        "\n",
        "  for name in listname:\n",
        "    if name == 'negative':\n",
        "      negative_num = negative_num + 1\n",
        "    elif name == 'positive':\n",
        "      pos_num = pos_num + 1\n",
        "\n",
        "\n",
        "  print('Negative cases = ',negative_num)\n",
        "  print('Positive cases =',pos_num)\n",
        "  print('P/N = ', pos_num/negative_num, '\\n')\n",
        "  \n",
        "  return negative_num, pos_num\n",
        "\n",
        "print('Train')\n",
        "neg, pos = partition_info(cdf_train)\n",
        "print('Val')\n",
        "partition_info(cdf_val)\n",
        "print('Test')\n",
        "partition_info(cdf_test)"
      ],
      "execution_count": null,
      "outputs": [
        {
          "output_type": "stream",
          "text": [
            "Train\n",
            "Negative cases =  [3633.]\n",
            "Positive cases = [359.]\n",
            "P/N =  [0.09881641] \n",
            "\n",
            "Val\n",
            "Negative cases =  [903.]\n",
            "Positive cases = [95.]\n",
            "P/N =  [0.10520487] \n",
            "\n",
            "Test\n",
            "Negative cases =  [1139.]\n",
            "Positive cases = [109.]\n",
            "P/N =  [0.09569798] \n",
            "\n"
          ],
          "name": "stdout"
        },
        {
          "output_type": "execute_result",
          "data": {
            "text/plain": [
              "(array([1139.]), array([109.]))"
            ]
          },
          "metadata": {
            "tags": []
          },
          "execution_count": 27
        }
      ]
    },
    {
      "cell_type": "code",
      "metadata": {
        "colab": {
          "base_uri": "https://localhost:8080/"
        },
        "id": "CBjam9jbJ1Lz",
        "outputId": "ae3d2663-5eeb-4cad-fb14-6409245fd52e"
      },
      "source": [
        "# NEW\n",
        "\n",
        "print('Train')\n",
        "neg, pos = partition_info(new_train_df)\n",
        "print('Val')\n",
        "partition_info(new_val_df)\n",
        "print('Test')\n",
        "partition_info(new_test_df)"
      ],
      "execution_count": null,
      "outputs": [
        {
          "output_type": "stream",
          "text": [
            "Train\n",
            "Negative cases =  [8767.]\n",
            "Positive cases = [843.]\n",
            "P/N =  [0.09615604] \n",
            "\n",
            "Val\n",
            "Negative cases =  [2174.]\n",
            "Positive cases = [244.]\n",
            "P/N =  [0.11223551] \n",
            "\n",
            "Test\n",
            "Negative cases =  [2692.]\n",
            "Positive cases = [253.]\n",
            "P/N =  [0.09398217] \n",
            "\n"
          ],
          "name": "stdout"
        },
        {
          "output_type": "execute_result",
          "data": {
            "text/plain": [
              "(array([2692.]), array([253.]))"
            ]
          },
          "metadata": {
            "tags": []
          },
          "execution_count": 28
        }
      ]
    }
  ]
}